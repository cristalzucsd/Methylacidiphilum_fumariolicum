{
 "cells": [
  {
   "cell_type": "markdown",
   "id": "4dad7fe0-07a6-4006-b8c1-eba59a5d962f",
   "metadata": {
    "tags": []
   },
   "source": [
    "# *i*MFP2023 model validation and analysis\n",
    "\n",
    "The notebooks in this repository recreate the analyses from sections 2.4.1, 2.4.2, and 2.4.3.\n",
    "We used a combination of bibliomic and experimental data to validate model *i*MFP2023 in three conditions:\n",
    "- Methanotrophic\n",
    "- Heterotrophic (Propape, Isopropanol, Acetone)\n",
    "- Autotrophic (CO<sub>2</sub>+H<sub>2</sub>)\n",
    "\n",
    "Although notebooks can run independetly, we recommend following the proposed workflow\n",
    "\n",
    "---\n",
    "**Important note:** We suggest using jupyter-notebook instead of jupyter-lab to execute the notebooks.\n",
    "Jupyterlab 3 and the most recent versions of IPwidgets are incompatible with Escher maps. Nonetheless, for users of jupyter-lab, we provide a yml file with a list of the compatible dependencies used in the creation of the notebooks.\n",
    "\n",
    "To install the dependencies in a new environment run these commands in a terminal:\n",
    "\n",
    "`conda env create -f environment.yml`\n",
    "\n",
    "`conda activate saldivar_etal_2023`\n",
    "\n",
    "`jupyter labextension install @jupyter-widgets/base && jupyter labextension install escher && jupyter labextension install @jupyter-widgets/jupyterlab-manager`\n",
    "\n",
    "---\n",
    "\n",
    "## 1. Sensitivity analysis to Growth and Non-Growth Associated Maintenance\n",
    "\n",
    "Run the following notebook to generate Figure S3 and calculate the sensitivity of the growth rate to changes in GAM and NGAM\n",
    "\n",
    "[1-sensitivity_analysis_to_gam_ngam.ipynb](1-sensitivity_analysis_to_gam_ngam.ipynb)\n",
    "\n",
    "## 2. Effect of reaction FALDHpp on methanotrophic growth\n",
    "\n",
    "The next notebook generates Figure S4 and Figure 3A, B, as well as table 2. In this section we study the changes in growth parameters as a function of flux through reaction FALDHpp\n",
    "\n",
    "[2-simulations_methane.ipynb](2-simulations_methane.ipynb)\n",
    "\n",
    "## 3. Effect of reaction HYD4pp on autotrophic growth\n",
    "\n",
    "The third notebook generates Figure 3C and Figure 4. In this section we study the trade-off between using hydroplasmic hydrogenases vs. cytoplasmic hydrogenases for hydrogen oxidation.\n",
    "\n",
    "[3-simulations_h2.ipynb](3-simulations_h2.ipynb)\n",
    "\n",
    "## 4. Metabolic changes on heteretrophic growth\n",
    "\n",
    "This section is divided in three notebooks:\n",
    "- Notebook 4A. Generates Figure 3B, and calculates growth parameters in heterotrophic conditions\n",
    "\n",
    "[4A-simulations_c3.ipynb](4A-simulations_c3.ipynb)\n",
    "\n",
    "- Notebooks 4B and 4C are the only two that need to be run sequentially\n",
    "- Notebook 4B. Runs flux sampling and analysis of the results. It produces files summary_sampling.xlsx, pagerank_Acetone.csv, pagerank_Methane.csv, pagerank_Propane.csv, pagerank_Isopropanol.csv\n",
    "\n",
    "[4B-flux_sampling_simulations.ipynb](4B-flux_sampling_simulations.ipynb)\n",
    "\n",
    "- Notebook 4C. Generates Figures 5A,B,C and Figure 5D.\n",
    "\n",
    "[4C-flux_sampling_results.ipynb](4C-flux_sampling_results.ipynb)\n"
   ]
  }
 ],
 "metadata": {
  "kernelspec": {
   "display_name": "Python 3 (ipykernel)",
   "language": "python",
   "name": "python3"
  },
  "language_info": {
   "codemirror_mode": {
    "name": "ipython",
    "version": 3
   },
   "file_extension": ".py",
   "mimetype": "text/x-python",
   "name": "python",
   "nbconvert_exporter": "python",
   "pygments_lexer": "ipython3",
   "version": "3.7.12"
  }
 },
 "nbformat": 4,
 "nbformat_minor": 5
}
